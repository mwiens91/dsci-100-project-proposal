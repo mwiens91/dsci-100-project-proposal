{
 "cells": [
  {
   "cell_type": "markdown",
   "id": "df0e633a-a3c2-4495-a65d-b28584823f8a",
   "metadata": {},
   "source": [
    "# Project Proposal\n",
    "\n",
    "Matt Wiens \\\n",
    "\\#21158845 \\\n",
    "group 26"
   ]
  },
  {
   "cell_type": "code",
   "execution_count": null,
   "id": "4892e38a-77c6-4f60-8b49-a896d682e0ed",
   "metadata": {},
   "outputs": [],
   "source": [
    "import altair as alt\n",
    "import pandas as pd"
   ]
  },
  {
   "cell_type": "markdown",
   "id": "34452e90-5107-4c3c-b940-c011bddca9f9",
   "metadata": {},
   "source": [
    "## Data description"
   ]
  },
  {
   "cell_type": "markdown",
   "id": "10bbad84-e75f-4540-b36b-cffe89faa597",
   "metadata": {},
   "source": [
    "The Pacific Laboratory for Artificial Intelligence (PLAI) at UBC has provided data recorded from their Minecraft server, PLAICraft. The data were obtained by recording players’ gameplay and collecting user registration information, and include details about player activity and demographic attributes.\n",
    "\n",
    "We'll begin by loading in the data."
   ]
  },
  {
   "cell_type": "code",
   "execution_count": null,
   "id": "9eadd35d-3c57-458c-8c65-40be93be0a82",
   "metadata": {},
   "outputs": [],
   "source": [
    "players = pd.read_csv(\"data/players.csv\")\n",
    "sessions = pd.read_csv(\"data/sessions.csv\")"
   ]
  },
  {
   "cell_type": "code",
   "execution_count": null,
   "id": "8764c206-0517-474d-af0a-5e30bf0ced5e",
   "metadata": {},
   "outputs": [],
   "source": [
    "players"
   ]
  },
  {
   "cell_type": "code",
   "execution_count": null,
   "id": "cd93541a-0b73-4762-9e5a-6909e9fcb157",
   "metadata": {},
   "outputs": [],
   "source": [
    "sessions"
   ]
  },
  {
   "cell_type": "markdown",
   "id": "9019a492-bd8f-463f-b2a6-f3240123e817",
   "metadata": {},
   "source": [
    "The `players` dataframe contains information about 196 players with the following 9 variables:\n",
    "\n",
    "| Variable | Type | Description | Notes |\n",
    "|---|---|---|---|\n",
    "| experience | ordinal | Experience level  | Values have the following ordering:  Beginner, Amateur, Regular, Pro, Veteran |\n",
    "| subscribe | boolean | Newsletter subscription status | |\n",
    "| hashedEmail | string | Email (hashed) | Unique for each player and can be used to join the `sessions` dataframe (see below) |\n",
    "| played_hours | numeric | Total gameplay hours | |\n",
    "| name | string | First name | |\n",
    "| gender | categorical | Gender | Gender includes more than two categories, e.g., Male, Female, Two-Spirited, Non-binary |\n",
    "| age | numeric | Player's age | |\n",
    "| individualId | unknown | Player's ID | No values included in the data |\n",
    "| organizationName | string | Player's organization | No values included in the data |\n",
    "\n",
    "The `sessions` dataframe contains information about 1535 gameplay sessions with the following 5 variables:\n",
    "\n",
    "| Variable | Type | Description | Notes |\n",
    "|---|---|---|---|\n",
    "| hashedEmail | string | Player email (hashed) | Unique for each player and can be used to join the `players` dataframe |\n",
    "| start_time | datetime (string) | Session start datetime | Stored as string in `DD/MM/YYYY HH:MM` format |\n",
    "| end_time | datetime (string) | Session end datetime | Stored as string in `DD/MM/YYYY HH:MM` format |\n",
    "| original_start_time | numeric | Session start datetime | Stored as Unix time in milliseconds |\n",
    "| original_end_time | numeric | Session end datetime | Stored as Unix time in milliseconds |\n",
    "\n",
    "For our research question discussed below, we'll only need a subset of the variables."
   ]
  },
  {
   "cell_type": "markdown",
   "id": "d5a09ffb-e4cb-4e50-bc5c-eb5ebc3c0e34",
   "metadata": {},
   "source": [
    "## Research question"
   ]
  },
  {
   "cell_type": "markdown",
   "id": "48b3d612-77df-46b6-acf8-9af29ee8fd49",
   "metadata": {},
   "source": [
    "The project lead of PLAICraft, Frank Wood, is interested in answering the following question:\n",
    "\n",
    "> \"What player characteristics and behaviours are most predictive of subscribing to a game-related newsletter, and how do these features differ between various player types?\"\n",
    "\n",
    "This proposal will investigate that question. The general idea of what we need to do is to find features—either the variables themselves or transformations of them—which help us predict player newsletter subscription status. This is a binary classification problem and we will focus on maximizing the accuracy of whichever model we choose, with recall and precision as secondary considerations (since we don't know the motivation behind Frank Wood's question, it's not clear which we should prioritize)."
   ]
  },
  {
   "cell_type": "markdown",
   "id": "055220c7-41fd-4bf3-95aa-07e507894e85",
   "metadata": {},
   "source": [
    "## Analysis"
   ]
  },
  {
   "cell_type": "markdown",
   "id": "aa2ba854-b21d-4fae-89ba-9ea2e6779af3",
   "metadata": {},
   "source": [
    "The only classification algorithm we've learned in class is $k$-nearest neighbors (KNN), which we'll use here. The response variable we will predict is the `subscribe` variable from the `players` dataframe. Candidate predictor features are the `experience`, `played_hours`, `gender`, and `age` variables, also all from the `players` dataframe. We can also derive additional predictor features from the `sessions` dataframe, such as:\n",
    "+ number of sessions\n",
    "+ average session length\n",
    "+ average time of day played\n",
    "\n",
    "These features can be obtained by grouping the `sessions` data by `hashedEmail` and aggregating appropriately. All data can then be combined by joining on `hashedEmail`.\n",
    "\n",
    "Note that since KNN relies on a distance metric, all predictor features must be numerical. Therefore, if we want to use `experience` and `gender` as predictor features, we'll need to transform them into numerical variables first."
   ]
  },
  {
   "cell_type": "markdown",
   "id": "76586592-262c-499c-a7c0-9913efc6a254",
   "metadata": {},
   "source": [
    "## Methods and plan"
   ]
  },
  {
   "cell_type": "markdown",
   "id": "e2254743-8747-4906-a551-eeedddf350f1",
   "metadata": {},
   "source": [
    "**TODO:**\n",
    "Propose one method to address your question of interest using the selected dataset and explain why it was chosen. Do not perform any modelling or present results at this stage. We are looking for high-level planning regarding model choice and justifying that choice.\n",
    "\n",
    "In your explanation, respond to the following questions:\n",
    "\n",
    "- Why is this method appropriate?\n",
    "- Which assumptions are required, if any, to apply the method selected?\n",
    "- What are the potential limitations or weaknesses of the method selected?\n",
    "- How are you going to compare and select the model?\n",
    "- How are you going to process the data to apply the model? For example: Are you splitting the data? How? How many splits? What proportions will you use for the splits? At what stage will you split? Will there be a validation set? Will you use cross validation?\n"
   ]
  },
  {
   "cell_type": "code",
   "execution_count": null,
   "id": "3093d1fa-ded4-400c-8c45-7ba262358aeb",
   "metadata": {},
   "outputs": [],
   "source": []
  }
 ],
 "metadata": {
  "kernelspec": {
   "display_name": "Python 3 (ipykernel)",
   "language": "python",
   "name": "python3"
  },
  "language_info": {
   "codemirror_mode": {
    "name": "ipython",
    "version": 3
   },
   "file_extension": ".py",
   "mimetype": "text/x-python",
   "name": "python",
   "nbconvert_exporter": "python",
   "pygments_lexer": "ipython3",
   "version": "3.11.9"
  }
 },
 "nbformat": 4,
 "nbformat_minor": 5
}
