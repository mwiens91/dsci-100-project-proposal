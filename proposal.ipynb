{
 "cells": [
  {
   "cell_type": "markdown",
   "id": "df0e633a-a3c2-4495-a65d-b28584823f8a",
   "metadata": {},
   "source": [
    "# Project Proposal\n",
    "\n",
    "Matt Wiens \\\n",
    "\\#21158845 \\\n",
    "group 26"
   ]
  },
  {
   "cell_type": "code",
   "execution_count": null,
   "id": "4892e38a-77c6-4f60-8b49-a896d682e0ed",
   "metadata": {},
   "outputs": [],
   "source": [
    "import altair as alt\n",
    "import pandas as pd"
   ]
  },
  {
   "cell_type": "markdown",
   "id": "34452e90-5107-4c3c-b940-c011bddca9f9",
   "metadata": {},
   "source": [
    "## Data description"
   ]
  },
  {
   "cell_type": "markdown",
   "id": "10bbad84-e75f-4540-b36b-cffe89faa597",
   "metadata": {},
   "source": [
    "The Pacific Laboratory for Artificial Intelligence (PLAI) at UBC has provided data recorded from their Minecraft server, PLAICraft. The data were obtained by recording players’ gameplay and collecting user registration information, and include details about player activity and demographic attributes.\n",
    "\n",
    "We'll begin by loading in the data."
   ]
  },
  {
   "cell_type": "code",
   "execution_count": null,
   "id": "9eadd35d-3c57-458c-8c65-40be93be0a82",
   "metadata": {},
   "outputs": [],
   "source": [
    "players = pd.read_csv(\"data/players.csv\")\n",
    "sessions = pd.read_csv(\"data/sessions.csv\")"
   ]
  },
  {
   "cell_type": "code",
   "execution_count": null,
   "id": "8764c206-0517-474d-af0a-5e30bf0ced5e",
   "metadata": {},
   "outputs": [],
   "source": [
    "players"
   ]
  },
  {
   "cell_type": "code",
   "execution_count": null,
   "id": "cd93541a-0b73-4762-9e5a-6909e9fcb157",
   "metadata": {},
   "outputs": [],
   "source": [
    "sessions"
   ]
  },
  {
   "cell_type": "markdown",
   "id": "9019a492-bd8f-463f-b2a6-f3240123e817",
   "metadata": {},
   "source": [
    "The `players` dataframe contains information about 196 players with the following 9 variables:\n",
    "\n",
    "| Variable | Type | Description | Notes |\n",
    "|---|---|---|---|\n",
    "| experience | ordinal | Experience level  | Values have the following ordering:  Beginner, Amateur, Regular, Pro, Veteran |\n",
    "| subscribe | boolean | Newsletter subscription status | |\n",
    "| hashedEmail | string | Email (hashed) | Unique for each player and can be used to join the `sessions` dataframe (see below) |\n",
    "| played_hours | numeric | Total gameplay hours | |\n",
    "| name | string | First name | |\n",
    "| gender | categorical | Gender | Gender includes more than two categories, e.g., Male, Female, Two-Spirited, Non-binary |\n",
    "| age | numeric | Player's age | |\n",
    "| individualId | unknown | Player's ID | No values included in the data |\n",
    "| organizationName | string | Player's organization | No values included in the data |\n",
    "\n",
    "The `sessions` dataframe contains information about 1535 gameplay sessions with the following 5 variables:\n",
    "\n",
    "| Variable | Type | Description | Notes |\n",
    "|---|---|---|---|\n",
    "| hashedEmail | string | Player email (hashed) | Unique for each player and can be used to join the `players` dataframe |\n",
    "| start_time | datetime (string) | Session start datetime | Stored as string in `DD/MM/YYYY HH:MM` format |\n",
    "| end_time | datetime (string) | Session end datetime | Stored as string in `DD/MM/YYYY HH:MM` format |\n",
    "| original_start_time | numeric | Session start datetime | Stored as Unix time in milliseconds |\n",
    "| original_end_time | numeric | Session end datetime | Stored as Unix time in milliseconds |\n",
    "\n",
    "For our research question discussed below, we'll only need a subset of the variables."
   ]
  },
  {
   "cell_type": "markdown",
   "id": "d5a09ffb-e4cb-4e50-bc5c-eb5ebc3c0e34",
   "metadata": {},
   "source": [
    "## Research question"
   ]
  },
  {
   "cell_type": "markdown",
   "id": "48b3d612-77df-46b6-acf8-9af29ee8fd49",
   "metadata": {},
   "source": [
    "The project lead of PLAICraft, Frank Wood, is interested in answering the following question:\n",
    "\n",
    "> \"What player characteristics and behaviours are most predictive of subscribing to a game-related newsletter, and how do these features differ between various player types?\"\n",
    "\n",
    "This proposal will investigate that question. The general idea of what we need to do is to find features—either the variables themselves or transformations of them—which help us predict player newsletter subscription status. This is a binary classification problem and we will focus on maximizing the accuracy of whichever model we choose, with recall and precision as secondary considerations (since we don't know the motivation behind Frank Wood's question, it's not clear which we should prioritize)."
   ]
  },
  {
   "cell_type": "markdown",
   "id": "055220c7-41fd-4bf3-95aa-07e507894e85",
   "metadata": {},
   "source": [
    "## Analysis"
   ]
  },
  {
   "cell_type": "markdown",
   "id": "aa2ba854-b21d-4fae-89ba-9ea2e6779af3",
   "metadata": {},
   "source": [
    "The only classification algorithm we've learned in class is $k$-nearest neighbors (KNN), which we'll use here. The response variable we will predict is the `subscribe` variable from the `players` dataframe. Candidate predictor features are the `experience`, `played_hours`, `gender`, and `age` variables, all from the `players` dataframe. We can also derive additional predictor features from the `sessions` dataframe, such as:\n",
    "+ number of sessions\n",
    "+ average session length\n",
    "+ average time of day played\n",
    "\n",
    "These features can be obtained by grouping the `sessions` data by `hashedEmail` and aggregating appropriately. They then be combined with the player features by joining on `hashedEmail`.\n",
    "\n",
    "Note that since KNN relies on a distance metric, all predictor features must be numerical. Therefore, if we want to use `experience` and `gender` as predictor features, we'll need to transform them into numerical variables first."
   ]
  },
  {
   "cell_type": "markdown",
   "id": "60d52a6f-2c9a-4e33-88ec-d4eca3d9b1d9",
   "metadata": {},
   "source": [
    "### Exploration"
   ]
  },
  {
   "cell_type": "markdown",
   "id": "e00ea847-2c83-4e64-96d2-3b8b2786da80",
   "metadata": {},
   "source": [
    "We'll now briefly explore how player experience, gender, gameplay hours, and age are associated with subscription status. "
   ]
  },
  {
   "cell_type": "code",
   "execution_count": null,
   "id": "645838fb-7a51-4fac-aaca-72ab8af85ce6",
   "metadata": {},
   "outputs": [],
   "source": [
    "# Drop the last two columns (which contain no values) from players to tidy the data\n",
    "try:\n",
    "    players.drop([\"individualId\", \"organizationName\"], axis=1, inplace=True)\n",
    "except KeyError:\n",
    "    # We've already dropped the columns and re-ran this cell for some reason\n",
    "    pass\n",
    "\n",
    "# Convert experience to an ordinal variable\n",
    "players[\"experience\"] = pd.Categorical(\n",
    "    players[\"experience\"],\n",
    "    categories=[\"Beginner\", \"Amateur\", \"Regular\", \"Pro\", \"Veteran\"],\n",
    "    ordered=True,\n",
    ")\n",
    "\n",
    "# Add a column with label for subscription status\n",
    "players[\"subscribe_label\"] = players[\"subscribe\"].map({True: \"Subscribed\", False: \"Not Subscribed\"})"
   ]
  },
  {
   "cell_type": "markdown",
   "id": "ffb241b6-f450-4cdb-ac59-cc7d56567d4b",
   "metadata": {},
   "source": [
    "#### Overall subscription counts"
   ]
  },
  {
   "cell_type": "markdown",
   "id": "e56dbcf7-afbb-4743-b3d8-21c20cd4e031",
   "metadata": {},
   "source": [
    "Before diving into potential associations, let's first get a baseline look at overall subscription counts."
   ]
  },
  {
   "cell_type": "code",
   "execution_count": null,
   "id": "64d9f05a-1a2c-473f-9f85-76c789d32917",
   "metadata": {},
   "outputs": [],
   "source": [
    "# Overall subscription counts\n",
    "overall_counts_plot = alt.Chart(players).mark_bar().encode(\n",
    "    x=alt.X(\"subscribe_label\").title(\"Subscription status\").axis(labelAngle=0),\n",
    "    y=alt.Y(\"count()\").title(\"Player count\"),\n",
    ").properties(\n",
    "    width=500,\n",
    "    title=f\"{players['subscribe'].mean():.0%} of Players Have Newsletter Subscriptions\",\n",
    ")\n",
    "overall_counts_plot"
   ]
  },
  {
   "cell_type": "markdown",
   "id": "570a4d64-6276-4341-95e4-bdf5dab13b90",
   "metadata": {},
   "source": [
    "#### Subscription status by experience level"
   ]
  },
  {
   "cell_type": "markdown",
   "id": "08ff51a5-68d4-4f1c-b455-0765b6f9337a",
   "metadata": {},
   "source": [
    "The first potential association we'll look is between subscription status and experience level."
   ]
  },
  {
   "cell_type": "code",
   "execution_count": null,
   "id": "37faf641-455a-45a2-95e3-fa19fb829df5",
   "metadata": {},
   "outputs": [],
   "source": [
    "# Proportion subscribed vs experience level\n",
    "proportion_subscribed_by_experience = (\n",
    "    players.groupby(\"experience\", observed=True)[\"subscribe\"]\n",
    "    .agg([(\"count\", \"size\"), (\"proportion_subscribed\", \"mean\")])\n",
    "    .reset_index()\n",
    ")\n",
    "proportion_subscribed_by_experience"
   ]
  },
  {
   "cell_type": "code",
   "execution_count": null,
   "id": "0eba8b12-9e56-42ac-ae1f-dc6395340fd1",
   "metadata": {},
   "outputs": [],
   "source": [
    "experience_plot = alt.Chart(proportion_subscribed_by_experience).mark_bar().encode(\n",
    "    x=alt.X(\"experience\").title(\"Experience level\").axis(labelAngle=0),\n",
    "    y=alt.Y(\"proportion_subscribed\").title(\"Percentage subscribed to newsletter\").axis(format=\"%\").scale(domain=[0,1]),\n",
    ").properties(\n",
    "    width=500,\n",
    "    title=\"Proportion of Players Subscribed by Experience Level\",\n",
    ")\n",
    "experience_plot"
   ]
  },
  {
   "cell_type": "markdown",
   "id": "221623e7-03d5-4bdf-8a2b-dfec236067bd",
   "metadata": {},
   "source": [
    "We can see that experience level does not appear to be strongly associated with subscription status."
   ]
  },
  {
   "cell_type": "markdown",
   "id": "1794a757-1f65-49d5-89b5-d57fefc70138",
   "metadata": {},
   "source": [
    "#### Subscription status by gender"
   ]
  },
  {
   "cell_type": "markdown",
   "id": "13a3a3b0-b3dc-4cce-8308-e6f05238bc75",
   "metadata": {},
   "source": [
    "Next we'll look at subscription status and gender."
   ]
  },
  {
   "cell_type": "code",
   "execution_count": null,
   "id": "de270bf1-77d7-43f0-801f-bd1ceb0f591d",
   "metadata": {},
   "outputs": [],
   "source": [
    "# Proportion subscribed vs gender\n",
    "proportion_subscribed_by_gender = (\n",
    "    players.groupby(\"gender\")[\"subscribe\"]\n",
    "    .agg([(\"count\", \"size\"), (\"proportion_subscribed\", \"mean\")])\n",
    "    .reset_index()\n",
    ")\n",
    "proportion_subscribed_by_gender"
   ]
  },
  {
   "cell_type": "markdown",
   "id": "54285df1-7aa6-4632-8cca-47d82de331a1",
   "metadata": {},
   "source": [
    "We can see some of the genders have low counts—the aggregate proportion subscribed isn't very meaningful in this case, so we'll exclude these genders in the plot below."
   ]
  },
  {
   "cell_type": "code",
   "execution_count": null,
   "id": "a8cc8d70-cc6a-4eef-91f2-1132882eff9d",
   "metadata": {},
   "outputs": [],
   "source": [
    "gender_plot = alt.Chart(\n",
    "    proportion_subscribed_by_gender.loc[proportion_subscribed_by_gender[\"count\"] > 5]\n",
    ").mark_bar().encode(\n",
    "    x=alt.X(\"gender\").title(\"Gender\").axis(labelAngle=0).sort(\"-y\"),\n",
    "    y=alt.Y(\"proportion_subscribed\").title(\"Percentage subscribed to newsletter\").axis(format=\"%\").scale(domain=[0,1]),\n",
    ").properties(\n",
    "    width=500,\n",
    "    title=\"Proportion of Players Subscribed by Gender (excluding genders with ≤5 players)\",\n",
    ")\n",
    "gender_plot"
   ]
  },
  {
   "cell_type": "markdown",
   "id": "79a686c7-b0fc-4a67-9bd9-d27fc13c4779",
   "metadata": {},
   "source": [
    "Players who choose to declare their gender seem to be much more likely to subscribe than players who do not declare their gender."
   ]
  },
  {
   "cell_type": "markdown",
   "id": "47447b07-d134-48af-bd60-7165e1403fd0",
   "metadata": {},
   "source": [
    "#### Subscription status by gameplay hours"
   ]
  },
  {
   "cell_type": "markdown",
   "id": "f4131015-90fc-4aa3-99b0-bde2f27583c8",
   "metadata": {},
   "source": [
    "Now we'll look at how subscription status is associated with gameplay hours. Ideally we would compare the distribution split by subscription status with side-by-side boxplots. Unfortunately, as we can see below, the vast majority of players have negligible gameplay hours, which collapses any boxplot into a line."
   ]
  },
  {
   "cell_type": "code",
   "execution_count": null,
   "id": "e5d6af17-0806-4766-b235-19792ef49947",
   "metadata": {},
   "outputs": [],
   "source": [
    "# Histogram of hours played\n",
    "hours_hist_plot = alt.Chart(players).mark_bar().encode(\n",
    "    x=alt.X(\"played_hours\").bin(step=2).title(\"Gameplay hours\"),\n",
    "    y=alt.Y(\"count()\").title(\"Player count\")\n",
    ").properties(\n",
    "    width=500,\n",
    "    title=\"Distribution of Gameplay Hours\",\n",
    ")\n",
    "hours_hist_plot"
   ]
  },
  {
   "cell_type": "markdown",
   "id": "194063f2-c596-444e-a452-c0bd3bc0eb1f",
   "metadata": {},
   "source": [
    "To address this, we'll break the data into players two groups: one having less than one hour of gameplay, the other having at least one hour.\n",
    "\n",
    "We'll first look at subscription counts of players with less than one hour of gameplay (since the gameplay hours values are too clustered to make boxplots meaningful) and then look at boxplots of players with at least one hour of gameplay."
   ]
  },
  {
   "cell_type": "code",
   "execution_count": null,
   "id": "44046813-0e73-4e05-876c-295bcac6375a",
   "metadata": {},
   "outputs": [],
   "source": [
    "# Subscription counts for players with <1 hour of gameplay\n",
    "low_hours_counts_plot = alt.Chart(\n",
    "    players.loc[players[\"played_hours\"] < 1]\n",
    ").mark_bar().encode(\n",
    "    x=alt.X(\"subscribe_label\").title(\"Subscription status\").axis(labelAngle=0),\n",
    "    y=alt.Y(\"count()\").title(\"Player count\"),\n",
    ").properties(\n",
    "    width=500,\n",
    "    title=f\"{players.loc[players['played_hours'] < 1]['subscribe'].mean():.0%} of Players with Less Than One Hour of Gameplay Have Newsletter Subscriptions\",\n",
    ")\n",
    "low_hours_counts_plot"
   ]
  },
  {
   "cell_type": "markdown",
   "id": "fcd93ebf-7a59-4faf-a820-2ca6d48f6d0e",
   "metadata": {},
   "source": [
    "Comparing this with our baseline subscription counts, there appears to be essentially no association between very low gameplay hours and subscription status."
   ]
  },
  {
   "cell_type": "code",
   "execution_count": null,
   "id": "71b1a145-433d-4eeb-827d-ba49cad3075d",
   "metadata": {},
   "outputs": [],
   "source": [
    "# Gameplay hours vs subscription status (at least 1 hour played)\n",
    "hours_positive_plot = alt.Chart(\n",
    "    players.loc[players[\"played_hours\"] >= 1]\n",
    ").mark_boxplot(size=60).encode(\n",
    "    x=alt.X(\"subscribe_label\").title(\"Subscription status\").axis(labelAngle=0),\n",
    "    y=alt.Y(\"played_hours\").title(\"Gameplay hours\"),\n",
    ").properties(\n",
    "    width=500,\n",
    "    title=\"Distribution of Played Hours by Subscription Status (at least 1 hour gameplay)\"\n",
    ")\n",
    "\n",
    "hours_positive_plot"
   ]
  },
  {
   "cell_type": "markdown",
   "id": "9f8fb91b-c628-462a-a68b-c480bf4aa215",
   "metadata": {},
   "source": [
    "Here we can clearly see that having at least an hour of gameplay is strongly associated with newsletter subscriptions. For players with a large number of hours, all of them are subscribed."
   ]
  },
  {
   "cell_type": "markdown",
   "id": "1f3a1bb1-6b95-4ffb-978b-f95770b6b191",
   "metadata": {},
   "source": [
    "#### Subscription status by age"
   ]
  },
  {
   "cell_type": "markdown",
   "id": "f837d969-4263-41ab-8cc0-6f7f1e5b86be",
   "metadata": {},
   "source": [
    "Finally, we will look at how age is associated with subscription status."
   ]
  },
  {
   "cell_type": "code",
   "execution_count": null,
   "id": "b48df135-70c2-4b1f-892a-b850574f9297",
   "metadata": {},
   "outputs": [],
   "source": [
    "# Subscribed vs age\n",
    "hours_positive_plot = alt.Chart(players).mark_boxplot(size=60).encode(\n",
    "    x=alt.X(\"subscribe_label\").title(\"Subscription status\").axis(labelAngle=0),\n",
    "    y=alt.Y(\"age\", title=\"Age\")\n",
    ").properties(\n",
    "    width=500,\n",
    "    title=\"Distribution of Age by Subscription Status\"\n",
    ")\n",
    "\n",
    "hours_positive_plot"
   ]
  },
  {
   "cell_type": "markdown",
   "id": "0fe71992-1dac-4593-8118-a335a4d78c85",
   "metadata": {},
   "source": [
    "Here we can see that if a player is subscribed, they will tend to be younger, although since there is so much overlap in the distributions, this effect is weak."
   ]
  },
  {
   "cell_type": "markdown",
   "id": "369f1f67-f4c1-4bdc-8032-f292f3d48e66",
   "metadata": {},
   "source": [
    "### Summary"
   ]
  },
  {
   "cell_type": "markdown",
   "id": "bffb0cde-e9cf-40a7-bd1d-7e50946b16f0",
   "metadata": {},
   "source": [
    "Through our exploration we have seen the following associations:\n",
    "+ Minimal association between experience level and subscription status\n",
    "+ Strong association between having declared gender and subscription status\n",
    "+ Essentially no association between having having less than one hour of gameplay and subscription status\n",
    "+ Strong association between having at least one hour of gameplay and subscription status\n",
    "+ Weak association between age and subscription status"
   ]
  },
  {
   "cell_type": "markdown",
   "id": "76586592-262c-499c-a7c0-9913efc6a254",
   "metadata": {},
   "source": [
    "## Methods and plan"
   ]
  },
  {
   "cell_type": "markdown",
   "id": "e2254743-8747-4906-a551-eeedddf350f1",
   "metadata": {},
   "source": [
    "**TODO:**\n",
    "Propose one method to address your question of interest using the selected dataset and explain why it was chosen. Do not perform any modelling or present results at this stage. We are looking for high-level planning regarding model choice and justifying that choice.\n",
    "\n",
    "In your explanation, respond to the following questions:\n",
    "\n",
    "- Why is this method appropriate?\n",
    "- Which assumptions are required, if any, to apply the method selected?\n",
    "- What are the potential limitations or weaknesses of the method selected?\n",
    "- How are you going to compare and select the model?\n",
    "- How are you going to process the data to apply the model? For example: Are you splitting the data? How? How many splits? What proportions will you use for the splits? At what stage will you split? Will there be a validation set? Will you use cross validation?\n"
   ]
  },
  {
   "cell_type": "code",
   "execution_count": null,
   "id": "3093d1fa-ded4-400c-8c45-7ba262358aeb",
   "metadata": {},
   "outputs": [],
   "source": []
  }
 ],
 "metadata": {
  "kernelspec": {
   "display_name": "Python 3 (ipykernel)",
   "language": "python",
   "name": "python3"
  },
  "language_info": {
   "codemirror_mode": {
    "name": "ipython",
    "version": 3
   },
   "file_extension": ".py",
   "mimetype": "text/x-python",
   "name": "python",
   "nbconvert_exporter": "python",
   "pygments_lexer": "ipython3",
   "version": "3.11.9"
  }
 },
 "nbformat": 4,
 "nbformat_minor": 5
}
