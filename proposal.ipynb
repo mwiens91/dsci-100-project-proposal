{
 "cells": [
  {
   "cell_type": "markdown",
   "id": "df0e633a-a3c2-4495-a65d-b28584823f8a",
   "metadata": {},
   "source": [
    "# Project Proposal\n",
    "\n",
    "Matt Wiens \\\n",
    "\\#21158845 \\\n",
    "group 26"
   ]
  },
  {
   "cell_type": "code",
   "execution_count": null,
   "id": "4892e38a-77c6-4f60-8b49-a896d682e0ed",
   "metadata": {},
   "outputs": [],
   "source": [
    "import altair as alt\n",
    "import pandas as pd"
   ]
  },
  {
   "cell_type": "markdown",
   "id": "34452e90-5107-4c3c-b940-c011bddca9f9",
   "metadata": {},
   "source": [
    "## Data description"
   ]
  },
  {
   "cell_type": "markdown",
   "id": "10bbad84-e75f-4540-b36b-cffe89faa597",
   "metadata": {},
   "source": [
    "The Pacific Laboratory for Artificial Intelligence (PLAI) at UBC has provided data recorded from their Minecraft server. The data were obtained by recording players’ gameplay and collecting user registration information, and include details about player activity and demographic attributes.\n",
    "\n",
    "We'll begin by loading in the data."
   ]
  },
  {
   "cell_type": "code",
   "execution_count": null,
   "id": "9eadd35d-3c57-458c-8c65-40be93be0a82",
   "metadata": {},
   "outputs": [],
   "source": [
    "players = pd.read_csv(\"data/players.csv\")\n",
    "sessions = pd.read_csv(\"data/sessions.csv\")"
   ]
  },
  {
   "cell_type": "code",
   "execution_count": null,
   "id": "8764c206-0517-474d-af0a-5e30bf0ced5e",
   "metadata": {},
   "outputs": [],
   "source": [
    "players"
   ]
  },
  {
   "cell_type": "code",
   "execution_count": null,
   "id": "cd93541a-0b73-4762-9e5a-6909e9fcb157",
   "metadata": {},
   "outputs": [],
   "source": [
    "sessions"
   ]
  },
  {
   "cell_type": "markdown",
   "id": "9019a492-bd8f-463f-b2a6-f3240123e817",
   "metadata": {},
   "source": [
    "The `players` dataframe contains information about 196 players with the following 9 variables:\n",
    "\n",
    "| Variable | Type | Description | Notes |\n",
    "|---|---|---|---|\n",
    "| experience | ordinal | Experience level  | Values have the following ordering:  Amateur, Regular, Pro, Veteran |\n",
    "| subscribe | boolean | Newsletter subscription status | |\n",
    "| hashedEmail | string | Email (hashed) | Unique for each player and can be used to join the `sessions` dataframe (see below) |\n",
    "| played_hours | numeric | Total gameplay hours | |\n",
    "| name | string | First name | |\n",
    "| gender | categorical | Gender | Gender includes more than two categories, e.g., Male, Female, Two-Spirited, Non-binary |\n",
    "| age | numeric | Player's age | |\n",
    "| individualId | unknown | Player's ID | No values included in the data |\n",
    "| organizationName | string | Player's organization | No values included in the data |\n",
    "\n",
    "**TODO:** number of observations, number of variables, name and type of variables, what the variables mean, any issues you see in the data, any other potential issues related to things you cannot directly see\n",
    "\n",
    "Make sure to use bullet point lists or tables to summarize the variables in an easy-to-understand format."
   ]
  },
  {
   "cell_type": "markdown",
   "id": "d5a09ffb-e4cb-4e50-bc5c-eb5ebc3c0e34",
   "metadata": {},
   "source": [
    "## Research question"
   ]
  },
  {
   "cell_type": "markdown",
   "id": "48b3d612-77df-46b6-acf8-9af29ee8fd49",
   "metadata": {},
   "source": [
    "**TODO:** some variation of Question 1: What player characteristics and behaviours are most predictive of subscribing to a game-related newsletter, and how do these features differ between various player types?"
   ]
  },
  {
   "cell_type": "markdown",
   "id": "f35387e6-eb88-4f5a-9a34-598e0c4a7f3f",
   "metadata": {},
   "source": [
    "**TODO:** Do some EDA that motivates the methods and plans"
   ]
  },
  {
   "cell_type": "markdown",
   "id": "76586592-262c-499c-a7c0-9913efc6a254",
   "metadata": {},
   "source": [
    "## Methods and plan"
   ]
  },
  {
   "cell_type": "markdown",
   "id": "e2254743-8747-4906-a551-eeedddf350f1",
   "metadata": {},
   "source": [
    "**TODO:**\n",
    "Propose one method to address your question of interest using the selected dataset and explain why it was chosen. Do not perform any modelling or present results at this stage. We are looking for high-level planning regarding model choice and justifying that choice.\n",
    "\n",
    "In your explanation, respond to the following questions:\n",
    "\n",
    "- Why is this method appropriate?\n",
    "- Which assumptions are required, if any, to apply the method selected?\n",
    "- What are the potential limitations or weaknesses of the method selected?\n",
    "- How are you going to compare and select the model?\n",
    "- How are you going to process the data to apply the model? For example: Are you splitting the data? How? How many splits? What proportions will you use for the splits? At what stage will you split? Will there be a validation set? Will you use cross validation?\n"
   ]
  },
  {
   "cell_type": "code",
   "execution_count": null,
   "id": "3093d1fa-ded4-400c-8c45-7ba262358aeb",
   "metadata": {},
   "outputs": [],
   "source": []
  }
 ],
 "metadata": {
  "kernelspec": {
   "display_name": "Python 3 (ipykernel)",
   "language": "python",
   "name": "python3"
  },
  "language_info": {
   "codemirror_mode": {
    "name": "ipython",
    "version": 3
   },
   "file_extension": ".py",
   "mimetype": "text/x-python",
   "name": "python",
   "nbconvert_exporter": "python",
   "pygments_lexer": "ipython3",
   "version": "3.11.9"
  }
 },
 "nbformat": 4,
 "nbformat_minor": 5
}
