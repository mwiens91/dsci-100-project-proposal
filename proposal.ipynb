{
 "cells": [
  {
   "cell_type": "markdown",
   "id": "df0e633a-a3c2-4495-a65d-b28584823f8a",
   "metadata": {},
   "source": [
    "# Project Proposal\n",
    "\n",
    "Matt Wiens \\\n",
    "\\#21158845 \\\n",
    "group 26"
   ]
  },
  {
   "cell_type": "markdown",
   "id": "7e372e09-c51f-44bb-bb28-46d073d1f48a",
   "metadata": {},
   "source": [
    "## Setup"
   ]
  },
  {
   "cell_type": "code",
   "execution_count": null,
   "id": "4892e38a-77c6-4f60-8b49-a896d682e0ed",
   "metadata": {},
   "outputs": [],
   "source": [
    "import altair as alt\n",
    "import matplotlib.pyplot as plt\n",
    "import numpy as np\n",
    "import pandas as pd\n",
    "from sklearn import set_config\n",
    "from sklearn.metrics import confusion_matrix\n",
    "from sklearn.model_selection import GridSearchCV, cross_validate\n",
    "from sklearn.neighbors import KNeighborsClassifier\n",
    "\n",
    "# Simplify working with large datasets in Altair\n",
    "alt.data_transformers.enable('vegafusion')\n",
    "\n",
    "# Output dataframes instead of arrays\n",
    "set_config(transform_output=\"pandas\")"
   ]
  },
  {
   "cell_type": "markdown",
   "id": "34452e90-5107-4c3c-b940-c011bddca9f9",
   "metadata": {},
   "source": [
    "## Reading in the data"
   ]
  },
  {
   "cell_type": "code",
   "execution_count": null,
   "id": "9eadd35d-3c57-458c-8c65-40be93be0a82",
   "metadata": {},
   "outputs": [],
   "source": [
    "players = pd.read_csv(\"data/players.csv\")\n",
    "sessions = pd.read_csv(\"data/sessions.csv\")"
   ]
  },
  {
   "cell_type": "code",
   "execution_count": null,
   "id": "8764c206-0517-474d-af0a-5e30bf0ced5e",
   "metadata": {},
   "outputs": [],
   "source": [
    "players"
   ]
  },
  {
   "cell_type": "code",
   "execution_count": null,
   "id": "cd93541a-0b73-4762-9e5a-6909e9fcb157",
   "metadata": {},
   "outputs": [],
   "source": [
    "sessions"
   ]
  },
  {
   "cell_type": "code",
   "execution_count": null,
   "id": "0ff36f75-74a0-4c8a-8a69-fa214e46439b",
   "metadata": {},
   "outputs": [],
   "source": []
  }
 ],
 "metadata": {
  "kernelspec": {
   "display_name": "Python 3 (ipykernel)",
   "language": "python",
   "name": "python3"
  },
  "language_info": {
   "codemirror_mode": {
    "name": "ipython",
    "version": 3
   },
   "file_extension": ".py",
   "mimetype": "text/x-python",
   "name": "python",
   "nbconvert_exporter": "python",
   "pygments_lexer": "ipython3",
   "version": "3.11.9"
  }
 },
 "nbformat": 4,
 "nbformat_minor": 5
}
